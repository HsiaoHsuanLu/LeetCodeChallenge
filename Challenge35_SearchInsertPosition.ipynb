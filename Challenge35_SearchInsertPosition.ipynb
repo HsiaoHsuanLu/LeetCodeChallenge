{
 "cells": [
  {
   "cell_type": "code",
   "execution_count": 14,
   "metadata": {},
   "outputs": [
    {
     "name": "stdout",
     "output_type": "stream",
     "text": [
      "3\n",
      "0:00:00\n"
     ]
    }
   ],
   "source": [
    "import datetime\n",
    "class Solution(object):\n",
    "    def searchInsert(self, nums, target):\n",
    "        \"\"\"\n",
    "        :type nums: List[int]\n",
    "        :type target: int\n",
    "        :rtype: int\n",
    "        \"\"\"\n",
    "        for i in range(len(nums)):\n",
    "            if(i==0 and target < nums[i]):# \n",
    "                return 0\n",
    "            elif(nums[i]==target):\n",
    "                return i\n",
    "            elif(nums[i-1]< target and target < nums[i]): #找不到對應的數字時, 需要給定合適的位置\n",
    "                return i\n",
    "            elif(i== len(nums)-1 and nums[i]<target):\n",
    "                return i+1\n",
    "\n",
    "nums_list =[1,3,5,7]\n",
    "target=7\n",
    "a = Solution()\n",
    "startTime = datetime.datetime.now()\n",
    "print(a.searchInsert(nums_list,target))\n",
    "endTime = datetime.datetime.now()\n",
    "print((endTime-startTime)*1000)\n",
    "\n",
    "#1000轉換成微秒\n"
   ]
  }
 ],
 "metadata": {
  "kernelspec": {
   "display_name": "Python 3",
   "language": "python",
   "name": "python3"
  },
  "language_info": {
   "codemirror_mode": {
    "name": "ipython",
    "version": 3
   },
   "file_extension": ".py",
   "mimetype": "text/x-python",
   "name": "python",
   "nbconvert_exporter": "python",
   "pygments_lexer": "ipython3",
   "version": "3.7.3"
  }
 },
 "nbformat": 4,
 "nbformat_minor": 2
}
