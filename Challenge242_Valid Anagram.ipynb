{
 "cells": [
  {
   "cell_type": "code",
   "execution_count": 250,
   "metadata": {},
   "outputs": [
    {
     "name": "stdout",
     "output_type": "stream",
     "text": [
      "True\n",
      "0.0\n"
     ]
    }
   ],
   "source": [
    "import time\n",
    "class Solution(object):\n",
    "    def isAnagram(self, s, t):\n",
    "        \"\"\"\n",
    "        :type s: str\n",
    "        :type t: str\n",
    "        :rtype: bool\n",
    "        \"\"\"\n",
    "        h={}\n",
    "\n",
    "        for str in s:\n",
    "            if str not in h :\n",
    "                h[str] = 0\n",
    "            h[str] += 1\n",
    "        \n",
    "        for str in t:\n",
    "            if str not in h:\n",
    "                h[str] = 0\n",
    "            h[str]-=1\n",
    "        \n",
    "        for keys in h.keys():\n",
    "            if h[keys]!=0:\n",
    "                return False\n",
    "        return True                   \n",
    "                \n",
    "        \n",
    "s = \"anagram\"\n",
    "t = \"nagaram\"\n",
    "a = Solution()\n",
    "start = time.time()\n",
    "print(a.isAnagram(s,t))\n",
    "end= time.time()\n",
    "print(end-start)"
   ]
  }
 ],
 "metadata": {
  "kernelspec": {
   "display_name": "Python 3",
   "language": "python",
   "name": "python3"
  },
  "language_info": {
   "codemirror_mode": {
    "name": "ipython",
    "version": 3
   },
   "file_extension": ".py",
   "mimetype": "text/x-python",
   "name": "python",
   "nbconvert_exporter": "python",
   "pygments_lexer": "ipython3",
   "version": "3.7.3"
  }
 },
 "nbformat": 4,
 "nbformat_minor": 2
}
